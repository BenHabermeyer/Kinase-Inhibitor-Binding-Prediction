{
 "cells": [
  {
   "cell_type": "code",
   "execution_count": 1,
   "metadata": {
    "colab": {
     "base_uri": "https://localhost:8080/",
     "height": 73,
     "resources": {
      "http://localhost:8080/nbextensions/google.colab/files.js": {
       "data": "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",
       "headers": [
        [
         "content-type",
         "application/javascript"
        ]
       ],
       "ok": true,
       "status": 200,
       "status_text": ""
      }
     }
    },
    "colab_type": "code",
    "id": "GE2BAed6inML",
    "outputId": "424a0c01-ed53-48b5-fa63-80b3d0a41c1b"
   },
   "outputs": [
    {
     "data": {
      "text/plain": [
       "'\\nimport pandas as pd\\nfrom google.colab import files\\nuploaded = files.upload()\\n'"
      ]
     },
     "execution_count": 1,
     "metadata": {},
     "output_type": "execute_result"
    }
   ],
   "source": [
    "#Ben Habermeyer Second Final Project Script\n",
    "\n",
    "#read in the parsed data of molecules, kinases, and their inhibitors\n",
    "'''\n",
    "import pandas as pd\n",
    "from google.colab import files\n",
    "uploaded = files.upload()\n",
    "'''"
   ]
  },
  {
   "cell_type": "code",
   "execution_count": 2,
   "metadata": {
    "colab": {
     "base_uri": "https://localhost:8080/",
     "height": 222
    },
    "colab_type": "code",
    "id": "j-QldYYJrbG-",
    "outputId": "c60c775e-8035-4dd1-a757-1cdcf4674a6a"
   },
   "outputs": [
    {
     "data": {
      "text/html": [
       "<div>\n",
       "<style>\n",
       "    .dataframe thead tr:only-child th {\n",
       "        text-align: right;\n",
       "    }\n",
       "\n",
       "    .dataframe thead th {\n",
       "        text-align: left;\n",
       "    }\n",
       "\n",
       "    .dataframe tbody tr th {\n",
       "        vertical-align: top;\n",
       "    }\n",
       "</style>\n",
       "<table border=\"1\" class=\"dataframe\">\n",
       "  <thead>\n",
       "    <tr style=\"text-align: right;\">\n",
       "      <th></th>\n",
       "      <th>compound_id</th>\n",
       "      <th>target_id</th>\n",
       "      <th>standard_type</th>\n",
       "      <th>standard_value</th>\n",
       "      <th>standard_units</th>\n",
       "      <th>prot_sequence</th>\n",
       "      <th>smiles_sequence</th>\n",
       "    </tr>\n",
       "  </thead>\n",
       "  <tbody>\n",
       "    <tr>\n",
       "      <th>0</th>\n",
       "      <td>CHEMBL135581</td>\n",
       "      <td>P00374</td>\n",
       "      <td>KD</td>\n",
       "      <td>0.5</td>\n",
       "      <td>NM</td>\n",
       "      <td>SLNCIVAVSQNMGIGKNGDLPWPPLRNEFRYFQRMTTTSSVEGKQN...</td>\n",
       "      <td>CCCN1C(=CC=C2C1=NC(NC2=O)N)C</td>\n",
       "    </tr>\n",
       "    <tr>\n",
       "      <th>1</th>\n",
       "      <td>CHEMBL135581</td>\n",
       "      <td>P00374</td>\n",
       "      <td>KD</td>\n",
       "      <td>0.6</td>\n",
       "      <td>NM</td>\n",
       "      <td>SLNCIVAVSQNMGIGKNGDLPWPPLRNEFRYFQRMTTTSSVEGKQN...</td>\n",
       "      <td>CCCN1C(=CC=C2C1=NC(NC2=O)N)C</td>\n",
       "    </tr>\n",
       "    <tr>\n",
       "      <th>2</th>\n",
       "      <td>CHEMBL135581</td>\n",
       "      <td>P00374</td>\n",
       "      <td>KD</td>\n",
       "      <td>450.0</td>\n",
       "      <td>NM</td>\n",
       "      <td>SLNCIVAVSQNMGIGKNGDLPWPPLRNEFRYFQRMTTTSSVEGKQN...</td>\n",
       "      <td>CCCN1C(=CC=C2C1=NC(NC2=O)N)C</td>\n",
       "    </tr>\n",
       "    <tr>\n",
       "      <th>3</th>\n",
       "      <td>CHEMBL135581</td>\n",
       "      <td>P00374</td>\n",
       "      <td>KD</td>\n",
       "      <td>1000.0</td>\n",
       "      <td>NM</td>\n",
       "      <td>SLNCIVAVSQNMGIGKNGDLPWPPLRNEFRYFQRMTTTSSVEGKQN...</td>\n",
       "      <td>CCCN1C(=CC=C2C1=NC(NC2=O)N)C</td>\n",
       "    </tr>\n",
       "    <tr>\n",
       "      <th>4</th>\n",
       "      <td>CHEMBL135581</td>\n",
       "      <td>P00374</td>\n",
       "      <td>KD</td>\n",
       "      <td>1200.0</td>\n",
       "      <td>NM</td>\n",
       "      <td>SLNCIVAVSQNMGIGKNGDLPWPPLRNEFRYFQRMTTTSSVEGKQN...</td>\n",
       "      <td>CCCN1C(=CC=C2C1=NC(NC2=O)N)C</td>\n",
       "    </tr>\n",
       "  </tbody>\n",
       "</table>\n",
       "</div>"
      ],
      "text/plain": [
       "    compound_id target_id standard_type  standard_value standard_units  \\\n",
       "0  CHEMBL135581    P00374            KD             0.5             NM   \n",
       "1  CHEMBL135581    P00374            KD             0.6             NM   \n",
       "2  CHEMBL135581    P00374            KD           450.0             NM   \n",
       "3  CHEMBL135581    P00374            KD          1000.0             NM   \n",
       "4  CHEMBL135581    P00374            KD          1200.0             NM   \n",
       "\n",
       "                                       prot_sequence  \\\n",
       "0  SLNCIVAVSQNMGIGKNGDLPWPPLRNEFRYFQRMTTTSSVEGKQN...   \n",
       "1  SLNCIVAVSQNMGIGKNGDLPWPPLRNEFRYFQRMTTTSSVEGKQN...   \n",
       "2  SLNCIVAVSQNMGIGKNGDLPWPPLRNEFRYFQRMTTTSSVEGKQN...   \n",
       "3  SLNCIVAVSQNMGIGKNGDLPWPPLRNEFRYFQRMTTTSSVEGKQN...   \n",
       "4  SLNCIVAVSQNMGIGKNGDLPWPPLRNEFRYFQRMTTTSSVEGKQN...   \n",
       "\n",
       "                smiles_sequence  \n",
       "0  CCCN1C(=CC=C2C1=NC(NC2=O)N)C  \n",
       "1  CCCN1C(=CC=C2C1=NC(NC2=O)N)C  \n",
       "2  CCCN1C(=CC=C2C1=NC(NC2=O)N)C  \n",
       "3  CCCN1C(=CC=C2C1=NC(NC2=O)N)C  \n",
       "4  CCCN1C(=CC=C2C1=NC(NC2=O)N)C  "
      ]
     },
     "execution_count": 2,
     "metadata": {},
     "output_type": "execute_result"
    }
   ],
   "source": [
    "import pandas as pd\n",
    "import io\n",
    "final_data = pd.read_csv('all_data.csv')\n",
    "final_data = final_data.dropna(subset = ['prot_sequence'], how = 'any')\n",
    "final_data = final_data.reset_index(drop = True)\n",
    "final_data.head()"
   ]
  },
  {
   "cell_type": "code",
   "execution_count": 3,
   "metadata": {
    "colab": {},
    "colab_type": "code",
    "collapsed": true,
    "id": "yHgVAPdstMJ8"
   },
   "outputs": [],
   "source": [
    "#convert the data into 3 lists corresponding to the protein sequence, smiles data, and Kd values\n",
    "kd = final_data['standard_value'].tolist()\n",
    "protein = final_data['prot_sequence'].tolist()\n",
    "compound = final_data['smiles_sequence'].tolist()\n",
    "del final_data\n",
    "#del uploaded"
   ]
  },
  {
   "cell_type": "code",
   "execution_count": 4,
   "metadata": {
    "colab": {},
    "colab_type": "code",
    "id": "FXP_7up0l7Wd"
   },
   "outputs": [
    {
     "ename": "ModuleNotFoundError",
     "evalue": "No module named 'keras'",
     "output_type": "error",
     "traceback": [
      "\u001b[1;31m---------------------------------------------------------------------------\u001b[0m",
      "\u001b[1;31mModuleNotFoundError\u001b[0m                       Traceback (most recent call last)",
      "\u001b[1;32m<ipython-input-4-5b3b20c6989c>\u001b[0m in \u001b[0;36m<module>\u001b[1;34m()\u001b[0m\n\u001b[0;32m      5\u001b[0m \u001b[1;32mfrom\u001b[0m \u001b[0mmath\u001b[0m \u001b[1;32mimport\u001b[0m \u001b[0mlog10\u001b[0m\u001b[1;33m\u001b[0m\u001b[0m\n\u001b[0;32m      6\u001b[0m \u001b[1;32mimport\u001b[0m \u001b[0msklearn\u001b[0m\u001b[1;33m.\u001b[0m\u001b[0mmodel_selection\u001b[0m \u001b[1;32mas\u001b[0m \u001b[0mms\u001b[0m\u001b[1;33m\u001b[0m\u001b[0m\n\u001b[1;32m----> 7\u001b[1;33m \u001b[1;32mfrom\u001b[0m \u001b[0mkeras\u001b[0m\u001b[1;33m.\u001b[0m\u001b[0mmodels\u001b[0m \u001b[1;32mimport\u001b[0m \u001b[0mSequential\u001b[0m\u001b[1;33m\u001b[0m\u001b[0m\n\u001b[0m\u001b[0;32m      8\u001b[0m \u001b[1;32mfrom\u001b[0m \u001b[0mkeras\u001b[0m\u001b[1;33m.\u001b[0m\u001b[0mlayers\u001b[0m \u001b[1;32mimport\u001b[0m \u001b[0mDense\u001b[0m\u001b[1;33m,\u001b[0m \u001b[0mConv2D\u001b[0m\u001b[1;33m,\u001b[0m \u001b[0mFlatten\u001b[0m\u001b[1;33m,\u001b[0m \u001b[0mMaxPooling2D\u001b[0m\u001b[1;33m\u001b[0m\u001b[0m\n\u001b[0;32m      9\u001b[0m \u001b[1;33m\u001b[0m\u001b[0m\n",
      "\u001b[1;31mModuleNotFoundError\u001b[0m: No module named 'keras'"
     ]
    }
   ],
   "source": [
    "#class to wrap all my ML stuff inside\n",
    "import numpy as np\n",
    "import functools\n",
    "import time\n",
    "from math import log10\n",
    "import sklearn.model_selection as ms\n",
    "from keras.models import Sequential\n",
    "from keras.layers import Dense, Conv2D, Flatten, MaxPooling2D\n",
    "\n",
    "\n",
    "class KinaseBinding:\n",
    "        \n",
    "    def __init__(self, smiles_strings, protein_strings, kd_values):\n",
    "        self.kd_values = kd_values\n",
    "        self.protein_strings = protein_strings\n",
    "        self.smiles_strings = smiles_strings\n",
    "        self.num_pairs = len(smiles_strings)\n",
    "        self.encoding_length = 300\n",
    "        self.encoding_features = 21\n",
    "        \n",
    "        #variables for one-hot encoding\n",
    "        self.AA_mappings = {'G': 0, 'A': 1, 'L': 2, 'M': 3, 'F': 4, 'W': 5, 'K': 6, 'Q': 7, 'E': 8, 'S': 9, \n",
    "          'P': 10, 'V': 11, 'I': 12, 'C': 13, 'Y': 14, 'H': 15, 'R': 16, 'N': 17, 'D': 18, 'T': 19, 'X': 20}\n",
    "        \n",
    "        self.compound_mappings = {'#': 15, '(': 2, ')': 3, '+': 17, '-': 18, '.': 16, '/': 13, '=': 1, '@': 6,\n",
    "                         'C': 0, 'F': 10, 'H': 9, 'N': 4, 'O': 5, 'S': 11, '[': 7, '\\\\': 14, ']': 8,\n",
    "                         'a': 19, 'l': 12, 'B': 20}\n",
    "        \n",
    "    #delete method\n",
    "    #def __del__(self):\n",
    "        \n",
    "        \n",
    "    #decorator to time each of the function operations\n",
    "    def fun_timer(f):\n",
    "        @functools.wraps(f)\n",
    "        def wrapper(*args, **kwargs):\n",
    "            start = time.perf_counter()\n",
    "            output = f(*args, **kwargs)\n",
    "            end = time.perf_counter()\n",
    "            runtime = end - start\n",
    "            print(\"Finished running {} in {} seconds\".format(f.__name__, runtime))\n",
    "            return output\n",
    "        return wrapper\n",
    "        \n",
    "    #takes a dict of most common characters and creates one hot encoded numpy array size num_stringsx300x20\n",
    "    @fun_timer\n",
    "    def oneHotCompound(self):\n",
    "        array = np.zeros((self.num_pairs, self.encoding_length, self.encoding_features))\n",
    "        ## iterate through the strings and encode their characters\n",
    "        for i, string in enumerate(self.smiles_strings):\n",
    "            counter = 0\n",
    "            for c in string:\n",
    "                if counter >= self.encoding_length:\n",
    "                    break\n",
    "                elif c in self.compound_mappings:\n",
    "                    array[i][counter][self.compound_mappings[c]] = 1\n",
    "                    counter = counter + 1\n",
    "                else:\n",
    "                    try:\n",
    "                        #set integers to be the number of hydrogens\n",
    "                        toint = int(c)\n",
    "                        for j in range(counter, counter + toint):\n",
    "                            if j < self.encoding_length:\n",
    "                                array[i][j][self.compound_mappings['H']] = 1\n",
    "                        counter = counter + toint\n",
    "                    except:\n",
    "                        counter = counter + 1\n",
    "        return array\n",
    "    \n",
    "    #takes a dict of amino acids and their indices 0-20 and creates a one hot encoded numpy array\n",
    "    @fun_timer\n",
    "    def oneHotProtein(self):\n",
    "        array = np.zeros((self.num_pairs, self.encoding_length, self.encoding_features))\n",
    "        #iterate through the proteins and encode their amino acids\n",
    "        for i, string in enumerate(self.protein_strings):\n",
    "            for j, c in enumerate(string):\n",
    "                array[i][j][self.AA_mappings[c]] = 1\n",
    "        return array\n",
    "      \n",
    "    #converts the list of Kd values to -log(kd)\n",
    "    @fun_timer\n",
    "    def convertKd(self):\n",
    "        l = [float(x) for x in self.kd_values]\n",
    "        p = [x**-9 if x > 0 else 0.01**-9 for x in l]\n",
    "        return np.asarray([-log10(x) for x in p])\n",
    "      \n",
    "    #split the data into test and train\n",
    "    @fun_timer\n",
    "    def split(self, compound, protein, Kd):\n",
    "        Xtrain1, Xtest1, Xtrain2, Xtest2, ytrain, ytest = ms.train_test_split(compound, protein, Kd, test_size = 0.2, random_state = 42)\n",
    "        return (Xtrain1, Xtest1, Xtrain2, Xtest2, ytrain, ytest)\n",
    "      \n",
    "    #train my first CNN - just concatenates the data then pools it\n",
    "    @fun_timer\n",
    "    def cnnModel1(self):\n",
    "        (Xtrain1, Xtest1, Xtrain2, Xtest2, ytrain, ytest) = self.split(self.oneHotCompound(), self.oneHotProtein(), self.convertKd())\n",
    "        Xtrain1 = Xtrain2.reshape(Xtrain1.shape[0], 300, 21, 1)\n",
    "        Xtrain2 = Xtrain2.reshape(Xtrain1.shape[0], 300, 21, 1)\n",
    "\n",
    "        main_input = Input(shape = (300, 21, 1), name = 'main_input')\n",
    "        auxiliary_input = Input(shape = (300, 21, 1), name = 'aux_input')\n",
    "        x = concatenate([main_input, auxiliary_input])\n",
    "\n",
    "        x = Conv2D(32, kernel_size = 5, activation = 'relu')(x)\n",
    "        x = Flatten()(x)\n",
    "        x = Dense(100, activation='relu')(x)\n",
    "        x = Dense(20, activation='relu')(x)\n",
    "        main_output = Dense(1)(x)\n",
    "        model = Model(inputs=[main_input, auxiliary_input], outputs = main_output)\n",
    "        model.compile(optimizer = 'adam', loss = 'mean_squared_error')\n",
    "        model.fit([Xtrain1, Xtrain2], ytrain, epochs = 3)     "
   ]
  },
  {
   "cell_type": "code",
   "execution_count": 0,
   "metadata": {
    "colab": {
     "base_uri": "https://localhost:8080/",
     "height": 69
    },
    "colab_type": "code",
    "id": "jQjMduE6TYa3",
    "outputId": "0b3e9765-9ab6-4635-a439-65b349103908"
   },
   "outputs": [
    {
     "name": "stdout",
     "output_type": "stream",
     "text": [
      "Finished running oneHotCompound in 7.283366845000273 seconds\n",
      "Finished running oneHotProtein in 14.574471961999734 seconds\n",
      "Finished running convertKd in 0.039141035999818996 seconds\n"
     ]
    }
   ],
   "source": [
    "k = KinaseBinding(compound, protein, kd)\n",
    "k.cnnModel1()"
   ]
  },
  {
   "cell_type": "code",
   "execution_count": 0,
   "metadata": {
    "colab": {
     "base_uri": "https://localhost:8080/",
     "height": 69
    },
    "colab_type": "code",
    "id": "IUgMSK6JowFH",
    "outputId": "ca75c612-680f-4363-9012-908d78aafc68"
   },
   "outputs": [
    {
     "name": "stdout",
     "output_type": "stream",
     "text": [
      "Finished running oneHotProtein in 14.548467050999534 seconds\n",
      "Finished running oneHotCompound in 8.05690279600094 seconds\n",
      "Finished running convertKd in 0.052365761999681126 seconds\n"
     ]
    }
   ],
   "source": [
    "k = KinaseBinding(compound, protein, kd)\n",
    "prot = k.oneHotProtein()\n",
    "compound = k.oneHotCompound()\n",
    "kd = k.convertKd()"
   ]
  },
  {
   "cell_type": "code",
   "execution_count": 0,
   "metadata": {
    "colab": {
     "base_uri": "https://localhost:8080/",
     "height": 69
    },
    "colab_type": "code",
    "id": "iP9DDtd8-73n",
    "outputId": "e0e5f050-ac35-4486-89d0-ed548a2ba750"
   },
   "outputs": [
    {
     "name": "stdout",
     "output_type": "stream",
     "text": [
      "Epoch 1/1\n",
      "400/400 [==============================] - 1s 3ms/step - loss: 76.6025\n"
     ]
    },
    {
     "data": {
      "text/plain": [
       "<keras.callbacks.History at 0x7f48cb7d3f60>"
      ]
     },
     "execution_count": 23,
     "metadata": {
      "tags": []
     },
     "output_type": "execute_result"
    }
   ],
   "source": [
    "import numpy as np\n",
    "import pandas as pd\n",
    "import keras\n",
    "import sklearn.model_selection as ms\n",
    "from keras.models import Model\n",
    "from keras.layers import Dense, Conv2D, Flatten, MaxPooling2D, concatenate, Input\n",
    "\n",
    "x1 = np.random.rand(500, 300, 21)\n",
    "x2 = np.random.rand(500, 300, 21)\n",
    "y = np.random.rand(500, 1)\n",
    "\n",
    "Xtrain1, Xtest1, Xtrain2, Xtest2, ytrain, ytest = ms.train_test_split(x1, x2, y, test_size = 0.2, random_state = 42)\n",
    "Xtrain1 = Xtrain2.reshape(Xtrain1.shape[0], 300, 21, 1)\n",
    "Xtrain2 = Xtrain2.reshape(Xtrain1.shape[0], 300, 21, 1)\n",
    "\n",
    "main_input = Input(shape = (300, 21, 1), name = 'main_input')\n",
    "auxiliary_input = Input(shape = (300, 21, 1), name = 'aux_input')\n",
    "x = concatenate([main_input, auxiliary_input])\n",
    "\n",
    "x = Conv2D(32, kernel_size = 5, activation = 'relu')(x)\n",
    "x = Flatten()(x)\n",
    "x = Dense(100, activation='relu')(x)\n",
    "x = Dense(20, activation='relu')(x)\n",
    "main_output = Dense(1)(x)\n",
    "model = Model(inputs=[main_input, auxiliary_input], outputs = main_output)\n",
    "model.compile(optimizer = 'adam', loss = 'mean_squared_error')\n",
    "model.fit([Xtrain1, Xtrain2], ytrain, epochs = 3)"
   ]
  }
 ],
 "metadata": {
  "accelerator": "GPU",
  "colab": {
   "collapsed_sections": [],
   "name": "Final Project CIS192",
   "provenance": [],
   "version": "0.3.2"
  },
  "kernelspec": {
   "display_name": "Python 3",
   "language": "python",
   "name": "python3"
  },
  "language_info": {
   "codemirror_mode": {
    "name": "ipython",
    "version": 3
   },
   "file_extension": ".py",
   "mimetype": "text/x-python",
   "name": "python",
   "nbconvert_exporter": "python",
   "pygments_lexer": "ipython3",
   "version": "3.6.3"
  }
 },
 "nbformat": 4,
 "nbformat_minor": 1
}
